{
 "cells": [
  {
   "cell_type": "code",
   "execution_count": 3,
   "metadata": {},
   "outputs": [
    {
     "name": "stderr",
     "output_type": "stream",
     "text": [
      "Matplotlib is building the font cache; this may take a moment.\n"
     ]
    }
   ],
   "source": [
    "from sklearn.ensemble import RandomForestClassifier\n",
    "from sklearn.preprocessing import LabelEncoder\n",
    "from sklearn.model_selection import train_test_split\n",
    "import matplotlib.pyplot as plt\n",
    "import seaborn as sns\n",
    "import pandas as pd"
   ]
  },
  {
   "cell_type": "markdown",
   "metadata": {},
   "source": [
    "## Kaggle Dataset"
   ]
  },
  {
   "cell_type": "code",
   "execution_count": null,
   "metadata": {},
   "outputs": [
    {
     "data": {
      "text/html": [
       "<div>\n",
       "<style scoped>\n",
       "    .dataframe tbody tr th:only-of-type {\n",
       "        vertical-align: middle;\n",
       "    }\n",
       "\n",
       "    .dataframe tbody tr th {\n",
       "        vertical-align: top;\n",
       "    }\n",
       "\n",
       "    .dataframe thead th {\n",
       "        text-align: right;\n",
       "    }\n",
       "</style>\n",
       "<table border=\"1\" class=\"dataframe\">\n",
       "  <thead>\n",
       "    <tr style=\"text-align: right;\">\n",
       "      <th></th>\n",
       "      <th>N</th>\n",
       "      <th>P</th>\n",
       "      <th>K</th>\n",
       "      <th>temperature</th>\n",
       "      <th>humidity</th>\n",
       "      <th>ph</th>\n",
       "      <th>rainfall</th>\n",
       "      <th>label</th>\n",
       "    </tr>\n",
       "  </thead>\n",
       "  <tbody>\n",
       "    <tr>\n",
       "      <th>0</th>\n",
       "      <td>90</td>\n",
       "      <td>42</td>\n",
       "      <td>43</td>\n",
       "      <td>20.879744</td>\n",
       "      <td>82.002744</td>\n",
       "      <td>6.502985</td>\n",
       "      <td>202.935536</td>\n",
       "      <td>rice</td>\n",
       "    </tr>\n",
       "    <tr>\n",
       "      <th>1</th>\n",
       "      <td>85</td>\n",
       "      <td>58</td>\n",
       "      <td>41</td>\n",
       "      <td>21.770462</td>\n",
       "      <td>80.319644</td>\n",
       "      <td>7.038096</td>\n",
       "      <td>226.655537</td>\n",
       "      <td>rice</td>\n",
       "    </tr>\n",
       "    <tr>\n",
       "      <th>2</th>\n",
       "      <td>60</td>\n",
       "      <td>55</td>\n",
       "      <td>44</td>\n",
       "      <td>23.004459</td>\n",
       "      <td>82.320763</td>\n",
       "      <td>7.840207</td>\n",
       "      <td>263.964248</td>\n",
       "      <td>rice</td>\n",
       "    </tr>\n",
       "    <tr>\n",
       "      <th>3</th>\n",
       "      <td>74</td>\n",
       "      <td>35</td>\n",
       "      <td>40</td>\n",
       "      <td>26.491096</td>\n",
       "      <td>80.158363</td>\n",
       "      <td>6.980401</td>\n",
       "      <td>242.864034</td>\n",
       "      <td>rice</td>\n",
       "    </tr>\n",
       "    <tr>\n",
       "      <th>4</th>\n",
       "      <td>78</td>\n",
       "      <td>42</td>\n",
       "      <td>42</td>\n",
       "      <td>20.130175</td>\n",
       "      <td>81.604873</td>\n",
       "      <td>7.628473</td>\n",
       "      <td>262.717340</td>\n",
       "      <td>rice</td>\n",
       "    </tr>\n",
       "    <tr>\n",
       "      <th>5</th>\n",
       "      <td>69</td>\n",
       "      <td>37</td>\n",
       "      <td>42</td>\n",
       "      <td>23.058049</td>\n",
       "      <td>83.370118</td>\n",
       "      <td>7.073454</td>\n",
       "      <td>251.055000</td>\n",
       "      <td>rice</td>\n",
       "    </tr>\n",
       "    <tr>\n",
       "      <th>6</th>\n",
       "      <td>69</td>\n",
       "      <td>55</td>\n",
       "      <td>38</td>\n",
       "      <td>22.708838</td>\n",
       "      <td>82.639414</td>\n",
       "      <td>5.700806</td>\n",
       "      <td>271.324860</td>\n",
       "      <td>rice</td>\n",
       "    </tr>\n",
       "    <tr>\n",
       "      <th>7</th>\n",
       "      <td>94</td>\n",
       "      <td>53</td>\n",
       "      <td>40</td>\n",
       "      <td>20.277744</td>\n",
       "      <td>82.894086</td>\n",
       "      <td>5.718627</td>\n",
       "      <td>241.974195</td>\n",
       "      <td>rice</td>\n",
       "    </tr>\n",
       "    <tr>\n",
       "      <th>8</th>\n",
       "      <td>89</td>\n",
       "      <td>54</td>\n",
       "      <td>38</td>\n",
       "      <td>24.515881</td>\n",
       "      <td>83.535216</td>\n",
       "      <td>6.685346</td>\n",
       "      <td>230.446236</td>\n",
       "      <td>rice</td>\n",
       "    </tr>\n",
       "    <tr>\n",
       "      <th>9</th>\n",
       "      <td>68</td>\n",
       "      <td>58</td>\n",
       "      <td>38</td>\n",
       "      <td>23.223974</td>\n",
       "      <td>83.033227</td>\n",
       "      <td>6.336254</td>\n",
       "      <td>221.209196</td>\n",
       "      <td>rice</td>\n",
       "    </tr>\n",
       "  </tbody>\n",
       "</table>\n",
       "</div>"
      ],
      "text/plain": [
       "    N   P   K  temperature   humidity        ph    rainfall label\n",
       "0  90  42  43    20.879744  82.002744  6.502985  202.935536  rice\n",
       "1  85  58  41    21.770462  80.319644  7.038096  226.655537  rice\n",
       "2  60  55  44    23.004459  82.320763  7.840207  263.964248  rice\n",
       "3  74  35  40    26.491096  80.158363  6.980401  242.864034  rice\n",
       "4  78  42  42    20.130175  81.604873  7.628473  262.717340  rice\n",
       "5  69  37  42    23.058049  83.370118  7.073454  251.055000  rice\n",
       "6  69  55  38    22.708838  82.639414  5.700806  271.324860  rice\n",
       "7  94  53  40    20.277744  82.894086  5.718627  241.974195  rice\n",
       "8  89  54  38    24.515881  83.535216  6.685346  230.446236  rice\n",
       "9  68  58  38    23.223974  83.033227  6.336254  221.209196  rice"
      ]
     },
     "execution_count": 1,
     "metadata": {},
     "output_type": "execute_result"
    }
   ],
   "source": [
    "DATA_PATH = 'data/crop_recommendation_dataset_kaggle.csv'\n",
    "\n",
    "with open(DATA_PATH, 'r') as file:\n",
    "    df = pd.read_csv(file)\n",
    "\n",
    "df.head(10)"
   ]
  },
  {
   "cell_type": "code",
   "execution_count": 17,
   "metadata": {},
   "outputs": [
    {
     "data": {
      "text/plain": [
       "label\n",
       "rice           100\n",
       "maize          100\n",
       "chickpea       100\n",
       "kidneybeans    100\n",
       "pigeonpeas     100\n",
       "mothbeans      100\n",
       "mungbean       100\n",
       "blackgram      100\n",
       "lentil         100\n",
       "pomegranate    100\n",
       "banana         100\n",
       "mango          100\n",
       "grapes         100\n",
       "watermelon     100\n",
       "muskmelon      100\n",
       "apple          100\n",
       "orange         100\n",
       "papaya         100\n",
       "coconut        100\n",
       "cotton         100\n",
       "jute           100\n",
       "coffee         100\n",
       "Name: count, dtype: int64"
      ]
     },
     "execution_count": 17,
     "metadata": {},
     "output_type": "execute_result"
    }
   ],
   "source": [
    "df[\"label\"].value_counts()"
   ]
  },
  {
   "cell_type": "code",
   "execution_count": 4,
   "metadata": {},
   "outputs": [
    {
     "data": {
      "image/png": "[encoded data removed]",
      "text/plain": [
       "<Figure size 1000x600 with 1 Axes>"
      ]
     },
     "metadata": {},
     "output_type": "display_data"
    }
   ],
   "source": [
    "# Split features and target\n",
    "X = df.drop('label', axis=1)\n",
    "y = df['label']\n",
    "\n",
    "# Encode target labels\n",
    "le = LabelEncoder()\n",
    "y_encoded = le.fit_transform(y)\n",
    "\n",
    "# Train/test split\n",
    "X_train, X_test, y_train, y_test = train_test_split(X, y_encoded, test_size=0.2, random_state=42)\n",
    "\n",
    "# Train Random Forest\n",
    "model = RandomForestClassifier(n_estimators=100, random_state=42)\n",
    "model.fit(X_train, y_train)\n",
    "\n",
    "# Get feature importances\n",
    "importances = model.feature_importances_\n",
    "features = X.columns\n",
    "\n",
    "# Plot\n",
    "plt.figure(figsize=(10, 6))\n",
    "sns.barplot(x=importances, y=features)\n",
    "plt.title('Feature Importance in Predicting Crop Label')\n",
    "plt.xlabel('Importance')\n",
    "plt.ylabel('Features')\n",
    "plt.tight_layout()\n",
    "plt.show()\n"
   ]
  },
  {
   "cell_type": "code",
   "execution_count": 6,
   "metadata": {},
   "outputs": [
    {
     "data": {
      "image/png": "[encoded data removed]",
      "text/plain": [
       "<Figure size 1000x600 with 2 Axes>"
      ]
     },
     "metadata": {},
     "output_type": "display_data"
    }
   ],
   "source": [
    "features_only = df.drop(columns=['label'])\n",
    "corr_matrix = features_only.corr()\n",
    "\n",
    "# Plot the heatmap\n",
    "plt.figure(figsize=(10, 6))\n",
    "sns.heatmap(corr_matrix, annot=True, cmap='coolwarm', fmt=\".2f\", square=True)\n",
    "plt.title(\"Feature Correlation Matrix\")\n",
    "plt.tight_layout()\n",
    "plt.show()"
   ]
  },
  {
   "cell_type": "code",
   "execution_count": 7,
   "metadata": {},
   "outputs": [
    {
     "name": "stdout",
     "output_type": "stream",
     "text": [
      "With all features: 0.9945454545454545\n",
      "Without 'K': 0.9909090909090909\n"
     ]
    }
   ],
   "source": [
    "from sklearn.model_selection import cross_val_score\n",
    "\n",
    "# Drop K\n",
    "X_drop_k = df.drop(columns=['label', 'K'])\n",
    "X = df.drop(columns='label')\n",
    "y = df['label']\n",
    "\n",
    "# Encode target\n",
    "from sklearn.preprocessing import LabelEncoder\n",
    "y_enc = LabelEncoder().fit_transform(y)\n",
    "\n",
    "# Random Forest\n",
    "from sklearn.ensemble import RandomForestClassifier\n",
    "model = RandomForestClassifier(n_estimators=100, random_state=42)\n",
    "\n",
    "# Compare accuracy with and without K\n",
    "scores_full = cross_val_score(model, X, y_enc, cv=5)\n",
    "scores_drop_k = cross_val_score(model, X_drop_k, y_enc, cv=5)\n",
    "\n",
    "print(\"With all features:\", scores_full.mean())\n",
    "print(\"Without 'K':\", scores_drop_k.mean())\n"
   ]
  },
  {
   "cell_type": "code",
   "execution_count": 9,
   "metadata": {},
   "outputs": [
    {
     "name": "stdout",
     "output_type": "stream",
     "text": [
      "Fitting 5 folds for each of 216 candidates, totalling 1080 fits\n",
      "Best Parameters: {'max_depth': None, 'max_features': 'sqrt', 'min_samples_leaf': 1, 'min_samples_split': 2, 'n_estimators': 100}\n",
      "Best Cross-Validation Score: 0.9948863636363636\n"
     ]
    }
   ],
   "source": [
    "from sklearn.ensemble import RandomForestClassifier\n",
    "from sklearn.model_selection import GridSearchCV\n",
    "from sklearn.preprocessing import LabelEncoder\n",
    "from sklearn.model_selection import train_test_split\n",
    "import pandas as pd\n",
    "\n",
    "# Load and prepare data\n",
    "df = pd.read_csv('data/crop_recommendation_dataset_kaggle.csv')\n",
    "\n",
    "X = df.drop(columns='label')\n",
    "y = LabelEncoder().fit_transform(df['label'])\n",
    "\n",
    "# Train/test split\n",
    "X_train, X_test, y_train, y_test = train_test_split(X, y, test_size=0.2, random_state=42)\n",
    "\n",
    "# Define model\n",
    "rf = RandomForestClassifier(random_state=42)\n",
    "\n",
    "# Define hyperparameter grid\n",
    "param_grid = {\n",
    "    'n_estimators': [100, 200, 300],\n",
    "    'max_depth': [None, 10, 20, 30],\n",
    "    'min_samples_split': [2, 5, 10],\n",
    "    'min_samples_leaf': [1, 2, 4],\n",
    "    'max_features': ['sqrt', 'log2']\n",
    "}\n",
    "\n",
    "# GridSearchCV setup\n",
    "grid_search = GridSearchCV(estimator=rf, param_grid=param_grid,\n",
    "                           cv=5, n_jobs=-1, verbose=2)\n",
    "\n",
    "# Fit to training data\n",
    "grid_search.fit(X_train, y_train)\n",
    "\n",
    "# Best parameters and score\n",
    "print(\"Best Parameters:\", grid_search.best_params_)\n",
    "print(\"Best Cross-Validation Score:\", grid_search.best_score_)\n"
   ]
  },
  {
   "cell_type": "code",
   "execution_count": 14,
   "metadata": {},
   "outputs": [],
   "source": [
    "# Extract results\n",
    "results = pd.DataFrame(grid_search.cv_results_)\n",
    "\n",
    "# Pivot table for heatmap (filtering for one split value for simplicity)\n",
    "filtered = results[results[\"param_min_samples_split\"] == 2]\n",
    "heatmap_data = filtered.pivot_table(\n",
    "    index='param_min_samples_leaf',\n",
    "    columns='param_max_depth',\n",
    "    values='mean_test_score'\n",
    ")"
   ]
  },
  {
   "cell_type": "code",
   "execution_count": 16,
   "metadata": {},
   "outputs": [
    {
     "data": {
      "image/png": "[encoded data removed]",
      "text/plain": [
       "<Figure size 800x600 with 2 Axes>"
      ]
     },
     "metadata": {},
     "output_type": "display_data"
    }
   ],
   "source": [
    "# Plot heatmap\n",
    "plt.figure(figsize=(8, 6))\n",
    "sns.heatmap(heatmap_data, annot=True, cmap=\"YlGnBu\", fmt=\".3f\")\n",
    "plt.title(\"Grid Search Accuracy Heatmap\\n(min_samples_split = 2)\")\n",
    "plt.xlabel(\"max_depth\")\n",
    "plt.ylabel(\"min_samples_leaf\")\n",
    "plt.tight_layout()\n",
    "plt.show()"
   ]
  },
  {
   "cell_type": "markdown",
   "metadata": {},
   "source": [
    "## SPAM dataset"
   ]
  },
  {
   "cell_type": "code",
   "execution_count": null,
   "metadata": {},
   "outputs": [
    {
     "data": {
      "application/vnd.microsoft.datawrangler.viewer.v0+json": {
       "columns": [
        {
         "name": "index",
         "rawType": "int64",
         "type": "integer"
        },
        {
         "name": "grid_code",
         "rawType": "int64",
         "type": "integer"
        },
        {
         "name": "x",
         "rawType": "float64",
         "type": "float"
        },
        {
         "name": "y",
         "rawType": "float64",
         "type": "float"
        },
        {
         "name": "ADM0_NAME",
         "rawType": "object",
         "type": "string"
        },
        {
         "name": "ADM1_NAME",
         "rawType": "object",
         "type": "string"
        },
        {
         "name": "ADM2_NAME",
         "rawType": "object",
         "type": "string"
        },
        {
         "name": "crop",
         "rawType": "object",
         "type": "string"
        },
        {
         "name": "yield_kg_per_ha",
         "rawType": "float64",
         "type": "float"
        }
       ],
       "conversionMethod": "pd.DataFrame",
       "ref": "816c218a-9493-48a3-85bc-3f165273fb04",
       "rows": [
        [
         "0",
         "2019630",
         "2.5416701",
         "51.0416985",
         "France",
         "Hauts-de-France",
         "Nord-Pas-de-Calais",
         "Banana",
         "9667.9"
        ],
        [
         "1",
         "2023944",
         "2.0416701",
         "50.9583015",
         "France",
         "Hauts-de-France",
         "Nord-Pas-de-Calais",
         "Banana",
         "5264.0"
        ],
        [
         "2",
         "2023945",
         "2.125",
         "50.9583015",
         "France",
         "Hauts-de-France",
         "Nord-Pas-de-Calais",
         "Banana",
         "5197.3"
        ],
        [
         "3",
         "2023946",
         "2.2083299",
         "50.9583015",
         "France",
         "Hauts-de-France",
         "Nord-Pas-de-Calais",
         "Banana",
         "9186.0"
        ],
        [
         "4",
         "2023947",
         "2.2916701",
         "50.9583015",
         "France",
         "Hauts-de-France",
         "Nord-Pas-de-Calais",
         "Banana",
         "9126.7"
        ]
       ],
       "shape": {
        "columns": 8,
        "rows": 5
       }
      },
      "text/html": [
       "<div>\n",
       "<style scoped>\n",
       "    .dataframe tbody tr th:only-of-type {\n",
       "        vertical-align: middle;\n",
       "    }\n",
       "\n",
       "    .dataframe tbody tr th {\n",
       "        vertical-align: top;\n",
       "    }\n",
       "\n",
       "    .dataframe thead th {\n",
       "        text-align: right;\n",
       "    }\n",
       "</style>\n",
       "<table border=\"1\" class=\"dataframe\">\n",
       "  <thead>\n",
       "    <tr style=\"text-align: right;\">\n",
       "      <th></th>\n",
       "      <th>grid_code</th>\n",
       "      <th>x</th>\n",
       "      <th>y</th>\n",
       "      <th>ADM0_NAME</th>\n",
       "      <th>ADM1_NAME</th>\n",
       "      <th>ADM2_NAME</th>\n",
       "      <th>crop</th>\n",
       "      <th>yield_kg_per_ha</th>\n",
       "    </tr>\n",
       "  </thead>\n",
       "  <tbody>\n",
       "    <tr>\n",
       "      <th>0</th>\n",
       "      <td>2019630</td>\n",
       "      <td>2.54167</td>\n",
       "      <td>51.041699</td>\n",
       "      <td>France</td>\n",
       "      <td>Hauts-de-France</td>\n",
       "      <td>Nord-Pas-de-Calais</td>\n",
       "      <td>Banana</td>\n",
       "      <td>9667.9</td>\n",
       "    </tr>\n",
       "    <tr>\n",
       "      <th>1</th>\n",
       "      <td>2023944</td>\n",
       "      <td>2.04167</td>\n",
       "      <td>50.958301</td>\n",
       "      <td>France</td>\n",
       "      <td>Hauts-de-France</td>\n",
       "      <td>Nord-Pas-de-Calais</td>\n",
       "      <td>Banana</td>\n",
       "      <td>5264.0</td>\n",
       "    </tr>\n",
       "    <tr>\n",
       "      <th>2</th>\n",
       "      <td>2023945</td>\n",
       "      <td>2.12500</td>\n",
       "      <td>50.958301</td>\n",
       "      <td>France</td>\n",
       "      <td>Hauts-de-France</td>\n",
       "      <td>Nord-Pas-de-Calais</td>\n",
       "      <td>Banana</td>\n",
       "      <td>5197.3</td>\n",
       "    </tr>\n",
       "    <tr>\n",
       "      <th>3</th>\n",
       "      <td>2023946</td>\n",
       "      <td>2.20833</td>\n",
       "      <td>50.958301</td>\n",
       "      <td>France</td>\n",
       "      <td>Hauts-de-France</td>\n",
       "      <td>Nord-Pas-de-Calais</td>\n",
       "      <td>Banana</td>\n",
       "      <td>9186.0</td>\n",
       "    </tr>\n",
       "    <tr>\n",
       "      <th>4</th>\n",
       "      <td>2023947</td>\n",
       "      <td>2.29167</td>\n",
       "      <td>50.958301</td>\n",
       "      <td>France</td>\n",
       "      <td>Hauts-de-France</td>\n",
       "      <td>Nord-Pas-de-Calais</td>\n",
       "      <td>Banana</td>\n",
       "      <td>9126.7</td>\n",
       "    </tr>\n",
       "  </tbody>\n",
       "</table>\n",
       "</div>"
      ],
      "text/plain": [
       "   grid_code        x          y ADM0_NAME        ADM1_NAME  \\\n",
       "0    2019630  2.54167  51.041699    France  Hauts-de-France   \n",
       "1    2023944  2.04167  50.958301    France  Hauts-de-France   \n",
       "2    2023945  2.12500  50.958301    France  Hauts-de-France   \n",
       "3    2023946  2.20833  50.958301    France  Hauts-de-France   \n",
       "4    2023947  2.29167  50.958301    France  Hauts-de-France   \n",
       "\n",
       "            ADM2_NAME    crop  yield_kg_per_ha  \n",
       "0  Nord-Pas-de-Calais  Banana           9667.9  \n",
       "1  Nord-Pas-de-Calais  Banana           5264.0  \n",
       "2  Nord-Pas-de-Calais  Banana           5197.3  \n",
       "3  Nord-Pas-de-Calais  Banana           9186.0  \n",
       "4  Nord-Pas-de-Calais  Banana           9126.7  "
      ]
     },
     "metadata": {},
     "output_type": "display_data"
    }
   ],
   "source": [
    "import pandas as pd\n",
    "\n",
    "df_yield = pd.read_csv(\"data\\IFPRI_Dataverse_Data\\spam2020V1r0_global_Y_TA.csv\", encoding='utf-8-sig')\n",
    "df_mapping = pd.read_csv(\"data\\IFPRI_Dataverse_Data\\spam_crop_mapping.csv\")\n",
    "\n",
    "crop_name_list = df_mapping[\"Crop name\"].tolist()\n",
    "\n",
    "# Step 1: Define columns to retain (location metadata)\n",
    "retain_columns = ['grid_code', 'x', 'y', 'ADM0_NAME', 'ADM1_NAME', 'ADM2_NAME']\n",
    "\n",
    "# Step 2: Identify crop columns from actual columns present\n",
    "# Only use names that exist in the DataFrame\n",
    "\n",
    "# Create mapping dictionary from SPAM code to full crop name\n",
    "crop_mapping = {row['SPAM name'].upper(): row['Crop name'] for _, row in df_mapping.iterrows()}\n",
    "\n",
    "# Rename function\n",
    "def rename_column(col):\n",
    "    return crop_mapping.get(col[:-2], col) if col.endswith('_A') else col\n",
    "\n",
    "# Apply renaming\n",
    "df_yield.columns = [rename_column(col) for col in df_yield.columns]\n",
    "\n",
    "crop_columns = [col for col in df_yield.columns if col in crop_name_list]\n",
    "\n",
    "# Step 3: Melt the crop columns only\n",
    "df_long = df_yield.melt(\n",
    "    id_vars=retain_columns,\n",
    "    value_vars=crop_columns,\n",
    "    var_name=\"crop\",\n",
    "    value_name=\"yield_kg_per_ha\"\n",
    ")\n",
    "\n",
    "# Step 4: Filter only yields > 1 kg/ha\n",
    "df_long_filtered = df_long[df_long[\"yield_kg_per_ha\"] > 1].reset_index(drop=True)\n",
    "\n",
    "# Save or use the cleaned data\n",
    "# df_long_filtered.to_csv(\"long_crop_yield_filtered.csv\", index=False)\n"
   ]
  }
 ],
 "metadata": {
  "kernelspec": {
   "display_name": "crop_recommender",
   "language": "python",
   "name": "python3"
  },
  "language_info": {
   "codemirror_mode": {
    "name": "ipython",
    "version": 3
   },
   "file_extension": ".py",
   "mimetype": "text/x-python",
   "name": "python",
   "nbconvert_exporter": "python",
   "pygments_lexer": "ipython3",
   "version": "3.11.6"
  }
 },
 "nbformat": 4,
 "nbformat_minor": 2
}
