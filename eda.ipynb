{
 "cells": [
  {
   "cell_type": "code",
   "execution_count": null,
   "metadata": {},
   "outputs": [],
   "source": [
    "import pandas as pd\n",
    "\n",
    "DATA_PATH = 'data/crop_recommendation_dataset_kaggle.csv'\n",
    "\n",
    "with open(DATA_PATH, 'r') as file:\n",
    "    df = pd.read_csv(file)\n",
    "\n",
    "df.head()"
   ]
  }
 ],
 "metadata": {
  "language_info": {
   "name": "python"
  }
 },
 "nbformat": 4,
 "nbformat_minor": 2
}
